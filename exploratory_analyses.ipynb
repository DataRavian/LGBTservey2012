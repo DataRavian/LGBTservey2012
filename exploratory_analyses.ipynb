{
 "cells": [
  {
   "cell_type": "markdown",
   "metadata": {},
   "source": [
    "# Exploratory Analyses"
   ]
  },
  {
   "cell_type": "markdown",
   "metadata": {},
   "source": [
    "#### This Notebook will contain exploratory analyses of the LGBT Servey data sets\n",
    "___"
   ]
  },
  {
   "cell_type": "code",
   "execution_count": 1,
   "metadata": {},
   "outputs": [],
   "source": [
    "import numpy as np\n",
    "import pandas as pd"
   ]
  },
  {
   "cell_type": "code",
   "execution_count": 2,
   "metadata": {},
   "outputs": [],
   "source": [
    "violence_data = 'data/LGBT_Survey_ViolenceAndHarassment.csv'\n",
    "\n",
    "df_violence = pd.read_csv(violence_data)"
   ]
  },
  {
   "cell_type": "code",
   "execution_count": 3,
   "metadata": {},
   "outputs": [
    {
     "data": {
      "text/html": [
       "<div>\n",
       "<style scoped>\n",
       "    .dataframe tbody tr th:only-of-type {\n",
       "        vertical-align: middle;\n",
       "    }\n",
       "\n",
       "    .dataframe tbody tr th {\n",
       "        vertical-align: top;\n",
       "    }\n",
       "\n",
       "    .dataframe thead th {\n",
       "        text-align: right;\n",
       "    }\n",
       "</style>\n",
       "<table border=\"1\" class=\"dataframe\">\n",
       "  <thead>\n",
       "    <tr style=\"text-align: right;\">\n",
       "      <th></th>\n",
       "      <th>CountryCode</th>\n",
       "      <th>subset</th>\n",
       "      <th>question_code</th>\n",
       "      <th>question_label</th>\n",
       "      <th>answer</th>\n",
       "      <th>percentage</th>\n",
       "      <th>notes</th>\n",
       "    </tr>\n",
       "  </thead>\n",
       "  <tbody>\n",
       "    <tr>\n",
       "      <th>0</th>\n",
       "      <td>Austria</td>\n",
       "      <td>Lesbian</td>\n",
       "      <td>e1</td>\n",
       "      <td>Do you avoid holding hands in public with a sa...</td>\n",
       "      <td>Yes</td>\n",
       "      <td>33</td>\n",
       "      <td>NaN</td>\n",
       "    </tr>\n",
       "    <tr>\n",
       "      <th>1</th>\n",
       "      <td>Austria</td>\n",
       "      <td>Lesbian</td>\n",
       "      <td>e1</td>\n",
       "      <td>Do you avoid holding hands in public with a sa...</td>\n",
       "      <td>No</td>\n",
       "      <td>53</td>\n",
       "      <td>NaN</td>\n",
       "    </tr>\n",
       "    <tr>\n",
       "      <th>2</th>\n",
       "      <td>Austria</td>\n",
       "      <td>Lesbian</td>\n",
       "      <td>e1</td>\n",
       "      <td>Do you avoid holding hands in public with a sa...</td>\n",
       "      <td>I do not have a same-sex partner</td>\n",
       "      <td>12</td>\n",
       "      <td>NaN</td>\n",
       "    </tr>\n",
       "    <tr>\n",
       "      <th>3</th>\n",
       "      <td>Austria</td>\n",
       "      <td>Lesbian</td>\n",
       "      <td>e1</td>\n",
       "      <td>Do you avoid holding hands in public with a sa...</td>\n",
       "      <td>Don`t know</td>\n",
       "      <td>2</td>\n",
       "      <td>[0]</td>\n",
       "    </tr>\n",
       "    <tr>\n",
       "      <th>4</th>\n",
       "      <td>Austria</td>\n",
       "      <td>Gay</td>\n",
       "      <td>e1</td>\n",
       "      <td>Do you avoid holding hands in public with a sa...</td>\n",
       "      <td>Yes</td>\n",
       "      <td>51</td>\n",
       "      <td>NaN</td>\n",
       "    </tr>\n",
       "  </tbody>\n",
       "</table>\n",
       "</div>"
      ],
      "text/plain": [
       "  CountryCode   subset question_code  \\\n",
       "0     Austria  Lesbian            e1   \n",
       "1     Austria  Lesbian            e1   \n",
       "2     Austria  Lesbian            e1   \n",
       "3     Austria  Lesbian            e1   \n",
       "4     Austria      Gay            e1   \n",
       "\n",
       "                                      question_label  \\\n",
       "0  Do you avoid holding hands in public with a sa...   \n",
       "1  Do you avoid holding hands in public with a sa...   \n",
       "2  Do you avoid holding hands in public with a sa...   \n",
       "3  Do you avoid holding hands in public with a sa...   \n",
       "4  Do you avoid holding hands in public with a sa...   \n",
       "\n",
       "                             answer percentage notes  \n",
       "0                               Yes         33   NaN  \n",
       "1                                No         53   NaN  \n",
       "2  I do not have a same-sex partner         12   NaN  \n",
       "3                        Don`t know          2   [0]  \n",
       "4                               Yes         51   NaN  "
      ]
     },
     "execution_count": 3,
     "metadata": {},
     "output_type": "execute_result"
    }
   ],
   "source": [
    "df_violence.head()"
   ]
  },
  {
   "cell_type": "code",
   "execution_count": null,
   "metadata": {},
   "outputs": [],
   "source": [
    "df_violence."
   ]
  },
  {
   "cell_type": "code",
   "execution_count": 8,
   "metadata": {},
   "outputs": [
    {
     "data": {
      "text/plain": [
       "Gay               9664\n",
       "Lesbian           9229\n",
       "Transgender       9016\n",
       "Bisexual men      8726\n",
       "Bisexual women    8720\n",
       "Name: subset, dtype: int64"
      ]
     },
     "execution_count": 8,
     "metadata": {},
     "output_type": "execute_result"
    }
   ],
   "source": [
    "df_subgroups = df_violence['subset'].value_counts()\n",
    "df_subgroups"
   ]
  },
  {
   "cell_type": "code",
   "execution_count": 9,
   "metadata": {},
   "outputs": [
    {
     "data": {
      "text/plain": [
       "Average           1722\n",
       "Germany           1705\n",
       "Italy             1681\n",
       "United Kingdom    1680\n",
       "Spain             1668\n",
       "France            1668\n",
       "Sweden            1655\n",
       "Finland           1634\n",
       "Austria           1630\n",
       "Greece            1621\n",
       "Poland            1620\n",
       "Netherlands       1619\n",
       "Croatia           1604\n",
       "Romania           1600\n",
       "Czech Republic    1600\n",
       "Hungary           1597\n",
       "Ireland           1583\n",
       "Bulgaria          1583\n",
       "Belgium           1578\n",
       "Portugal          1576\n",
       "Denmark           1541\n",
       "Lithuania         1523\n",
       "Slovakia          1520\n",
       "Latvia            1453\n",
       "Estonia           1421\n",
       "Slovenia          1384\n",
       "Malta             1350\n",
       "Cyprus            1337\n",
       "Luxembourg        1202\n",
       "Name: CountryCode, dtype: int64"
      ]
     },
     "execution_count": 9,
     "metadata": {},
     "output_type": "execute_result"
    }
   ],
   "source": [
    "df_countries = df_violence['CountryCode'].value_counts()\n",
    "df_countries"
   ]
  },
  {
   "cell_type": "code",
   "execution_count": 19,
   "metadata": {},
   "outputs": [
    {
     "data": {
      "text/html": [
       "<div>\n",
       "<style scoped>\n",
       "    .dataframe tbody tr th:only-of-type {\n",
       "        vertical-align: middle;\n",
       "    }\n",
       "\n",
       "    .dataframe tbody tr th {\n",
       "        vertical-align: top;\n",
       "    }\n",
       "\n",
       "    .dataframe thead th {\n",
       "        text-align: right;\n",
       "    }\n",
       "</style>\n",
       "<table border=\"1\" class=\"dataframe\">\n",
       "  <thead>\n",
       "    <tr style=\"text-align: right;\">\n",
       "      <th></th>\n",
       "      <th>answer</th>\n",
       "    </tr>\n",
       "  </thead>\n",
       "  <tbody>\n",
       "    <tr>\n",
       "      <th>Don`t know</th>\n",
       "      <td>3170</td>\n",
       "    </tr>\n",
       "    <tr>\n",
       "      <th>Yes</th>\n",
       "      <td>1732</td>\n",
       "    </tr>\n",
       "    <tr>\n",
       "      <th>No</th>\n",
       "      <td>1732</td>\n",
       "    </tr>\n",
       "    <tr>\n",
       "      <th>Other</th>\n",
       "      <td>1459</td>\n",
       "    </tr>\n",
       "    <tr>\n",
       "      <th>Female</th>\n",
       "      <td>576</td>\n",
       "    </tr>\n",
       "    <tr>\n",
       "      <th>...</th>\n",
       "      <td>...</td>\n",
       "    </tr>\n",
       "    <tr>\n",
       "      <th>I do not have a same-sex partner</th>\n",
       "      <td>145</td>\n",
       "    </tr>\n",
       "    <tr>\n",
       "      <th>Public premises or buildings</th>\n",
       "      <td>145</td>\n",
       "    </tr>\n",
       "    <tr>\n",
       "      <th>My home</th>\n",
       "      <td>144</td>\n",
       "    </tr>\n",
       "    <tr>\n",
       "      <th>omebody stopped me or discouraged me</th>\n",
       "      <td>122</td>\n",
       "    </tr>\n",
       "    <tr>\n",
       "      <th>Went directly to a magistrate or judge to report the incident</th>\n",
       "      <td>116</td>\n",
       "    </tr>\n",
       "  </tbody>\n",
       "</table>\n",
       "<p>96 rows × 1 columns</p>\n",
       "</div>"
      ],
      "text/plain": [
       "                                                    answer\n",
       "Don`t know                                            3170\n",
       "Yes                                                   1732\n",
       "No                                                    1732\n",
       "Other                                                 1459\n",
       "Female                                                 576\n",
       "...                                                    ...\n",
       "I do not have a same-sex partner                       145\n",
       "Public premises or buildings                           145\n",
       "My home                                                144\n",
       "omebody stopped me or discouraged me                   122\n",
       "Went directly to a magistrate or judge to repor...     116\n",
       "\n",
       "[96 rows x 1 columns]"
      ]
     },
     "execution_count": 19,
     "metadata": {},
     "output_type": "execute_result"
    }
   ],
   "source": [
    "df_answer = df_violence['answer'].value_counts().to_frame()\n",
    "df_answer"
   ]
  },
  {
   "cell_type": "code",
   "execution_count": null,
   "metadata": {},
   "outputs": [],
   "source": []
  }
 ],
 "metadata": {
  "kernelspec": {
   "display_name": "Python 3",
   "language": "python",
   "name": "python3"
  },
  "language_info": {
   "codemirror_mode": {
    "name": "ipython",
    "version": 3
   },
   "file_extension": ".py",
   "mimetype": "text/x-python",
   "name": "python",
   "nbconvert_exporter": "python",
   "pygments_lexer": "ipython3",
   "version": "3.7.6"
  }
 },
 "nbformat": 4,
 "nbformat_minor": 4
}
